{
 "cells": [
  {
   "cell_type": "markdown",
   "id": "1cd37308",
   "metadata": {},
   "source": [
    "# SQL - PYTHON 1"
   ]
  },
  {
   "cell_type": "code",
   "execution_count": 1,
   "id": "3d855b6d",
   "metadata": {},
   "outputs": [
    {
     "name": "stdout",
     "output_type": "stream",
     "text": [
      "Requirement already satisfied: mysql in c:\\users\\nehas\\anaconda3\\lib\\site-packages (0.0.3)\n",
      "Requirement already satisfied: mysqlclient in c:\\users\\nehas\\anaconda3\\lib\\site-packages (from mysql) (2.2.0)\n"
     ]
    }
   ],
   "source": [
    "!pip install mysql"
   ]
  },
  {
   "cell_type": "code",
   "execution_count": 2,
   "id": "96aff991",
   "metadata": {},
   "outputs": [
    {
     "name": "stdout",
     "output_type": "stream",
     "text": [
      "Requirement already satisfied: mysql-connector-python in c:\\users\\nehas\\anaconda3\\lib\\site-packages (8.0.33)\n",
      "Requirement already satisfied: protobuf<=3.20.3,>=3.11.0 in c:\\users\\nehas\\anaconda3\\lib\\site-packages (from mysql-connector-python) (3.19.1)\n"
     ]
    }
   ],
   "source": [
    "!pip install mysql-connector-python"
   ]
  },
  {
   "cell_type": "code",
   "execution_count": 1,
   "id": "f8e64cee",
   "metadata": {},
   "outputs": [],
   "source": [
    "import mysql.connector    # CONNECTING TO DATABASE"
   ]
  },
  {
   "cell_type": "code",
   "execution_count": 2,
   "id": "65fe944a",
   "metadata": {},
   "outputs": [
    {
     "name": "stdout",
     "output_type": "stream",
     "text": [
      "<mysql.connector.connection_cext.CMySQLConnection object at 0x000001F7FAB876A0>\n"
     ]
    }
   ],
   "source": [
    "db =mysql.connector.connect(\n",
    "    host=\"localhost\",\n",
    "    user=\"root\",\n",
    "    password=\"Silvershark@1988\"\n",
    ")\n",
    "\n",
    "print(db)"
   ]
  },
  {
   "cell_type": "code",
   "execution_count": 3,
   "id": "ecd223a5",
   "metadata": {},
   "outputs": [],
   "source": [
    "# Checking database\n",
    "\n",
    "cursor=db.cursor()\n"
   ]
  },
  {
   "cell_type": "code",
   "execution_count": 4,
   "id": "ca1102a2",
   "metadata": {},
   "outputs": [],
   "source": [
    "cursor.execute(\"SHOW DATABASES\")"
   ]
  },
  {
   "cell_type": "code",
   "execution_count": 5,
   "id": "7e47d65f",
   "metadata": {},
   "outputs": [
    {
     "name": "stdout",
     "output_type": "stream",
     "text": [
      "('database1',)\n",
      "('database2',)\n",
      "('information_schema',)\n",
      "('mysql',)\n",
      "('nehadb',)\n",
      "('performance_schema',)\n",
      "('sys',)\n"
     ]
    }
   ],
   "source": [
    "for i in cursor:\n",
    "    print(i)"
   ]
  },
  {
   "cell_type": "code",
   "execution_count": 7,
   "id": "500ce819",
   "metadata": {},
   "outputs": [],
   "source": [
    "# Create a new database\n",
    "\n",
    "cursor.execute(\"CREATE DATABASE database3\")                # execute command to be typed always"
   ]
  },
  {
   "cell_type": "code",
   "execution_count": 8,
   "id": "64df3e49",
   "metadata": {},
   "outputs": [
    {
     "name": "stdout",
     "output_type": "stream",
     "text": [
      "('database1',)\n",
      "('database2',)\n",
      "('database3',)\n",
      "('information_schema',)\n",
      "('mysql',)\n",
      "('nehadb',)\n",
      "('performance_schema',)\n",
      "('sys',)\n"
     ]
    }
   ],
   "source": [
    "#Checking the new database which created\n",
    "\n",
    "cursor.execute(\"SHOW DATABASES\")\n",
    "\n",
    "for i in cursor:\n",
    "    print(i)\n"
   ]
  },
  {
   "cell_type": "code",
   "execution_count": 12,
   "id": "59e48bc6",
   "metadata": {},
   "outputs": [],
   "source": [
    "# Create Table. Mention the database where you want to create tables.\n",
    "\n",
    "db=mysql.connector.connect(\n",
    "    host=\"localhost\",\n",
    "    user=\"root\",\n",
    "    password=\"Silvershark@1988\",\n",
    "    database=\"database3\"\n",
    ")"
   ]
  },
  {
   "cell_type": "code",
   "execution_count": 13,
   "id": "73b2231e",
   "metadata": {},
   "outputs": [],
   "source": [
    "cursor=db.cursor()\n",
    "cursor.execute(\"CREATE TABLE school(gender VARCHAR(6), student_id INTEGER(10), marks INTEGER(3))\")"
   ]
  },
  {
   "cell_type": "code",
   "execution_count": 14,
   "id": "d4207d8a",
   "metadata": {},
   "outputs": [
    {
     "name": "stdout",
     "output_type": "stream",
     "text": [
      "('school',)\n"
     ]
    }
   ],
   "source": [
    "# Check if any tables availables\n",
    "\n",
    "cursor.execute(\"show tables\")\n",
    "\n",
    "for i in cursor:\n",
    "    print(i)"
   ]
  },
  {
   "cell_type": "markdown",
   "id": "ad40a992",
   "metadata": {},
   "source": [
    "## DATA INSERTION"
   ]
  },
  {
   "cell_type": "markdown",
   "id": "28e2ceb4",
   "metadata": {},
   "source": [
    "### SINGLE RECORD INSERTION"
   ]
  },
  {
   "cell_type": "code",
   "execution_count": 15,
   "id": "8694aafc",
   "metadata": {},
   "outputs": [
    {
     "name": "stdout",
     "output_type": "stream",
     "text": [
      "1 RECORD INSERTED\n"
     ]
    }
   ],
   "source": [
    "db=mysql.connector.connect(\n",
    "    host=\"localhost\",\n",
    "    user=\"root\",\n",
    "    password=\"Silvershark@1988\",\n",
    "    database=\"database3\"\n",
    ")\n",
    "\n",
    "cursor=db.cursor()\n",
    "\n",
    "sql=\"INSERT INTO school (gender, student_id, marks) VALUES ('Male',12345,33)\"\n",
    "\n",
    "cursor.execute(sql)\n",
    "\n",
    "db.commit()   #To save the data permanently\n",
    "\n",
    "print(cursor.rowcount,\"RECORD INSERTED\")   # row count is a method to count the row"
   ]
  },
  {
   "cell_type": "markdown",
   "id": "9abc0969",
   "metadata": {},
   "source": [
    "### MULTIPLE RECORD INSERTION"
   ]
  },
  {
   "cell_type": "code",
   "execution_count": 16,
   "id": "e4bcd0df",
   "metadata": {},
   "outputs": [],
   "source": [
    "sql=\"INSERT INTO school(gender , student_id , marks)VALUES ('Male',123456,34),('Female',253468,56),('Female',256511,22),('male',567891234,82),('male',78912345,66),('female',891234567,55),('female',912345678,63)\"\n",
    "\n",
    "cursor.execute(sql)"
   ]
  },
  {
   "cell_type": "code",
   "execution_count": 17,
   "id": "a20a4bb5",
   "metadata": {},
   "outputs": [
    {
     "name": "stdout",
     "output_type": "stream",
     "text": [
      "7 RECORD INSERTED\n"
     ]
    }
   ],
   "source": [
    "db.commit\n",
    "\n",
    "print(cursor.rowcount,\"RECORD INSERTED\")"
   ]
  },
  {
   "cell_type": "markdown",
   "id": "4b47b8fa",
   "metadata": {},
   "source": [
    "### ANOTHER WAY OF INSERTING A RECORD "
   ]
  },
  {
   "cell_type": "code",
   "execution_count": 18,
   "id": "fa7265dd",
   "metadata": {},
   "outputs": [
    {
     "name": "stdout",
     "output_type": "stream",
     "text": [
      "4 RECORD INSERTED\n"
     ]
    }
   ],
   "source": [
    "sql= \"INSERT INTO school ( gender , student_id , marks) VALUES (%s,%s,%s)\"\n",
    "\n",
    "val= (('Male',567891,82),('Male',789125,66),('Female',441267,55),('Female',712678,63))\n",
    "\n",
    "cursor.executemany(sql,val)   # to execute many values\n",
    "db.commit()\n",
    "\n",
    "print(cursor.rowcount,\"RECORD INSERTED\")"
   ]
  },
  {
   "cell_type": "markdown",
   "id": "b36c57d1",
   "metadata": {},
   "source": [
    "## DATA SELECTION-"
   ]
  },
  {
   "cell_type": "code",
   "execution_count": 19,
   "id": "f3c59c86",
   "metadata": {},
   "outputs": [
    {
     "name": "stdout",
     "output_type": "stream",
     "text": [
      "('Male', 12345, 33)\n",
      "('Male', 123456, 34)\n",
      "('Female', 253468, 56)\n",
      "('Female', 256511, 22)\n",
      "('male', 567891234, 82)\n",
      "('male', 78912345, 66)\n",
      "('female', 891234567, 55)\n",
      "('female', 912345678, 63)\n",
      "('Male', 567891, 82)\n",
      "('Male', 789125, 66)\n",
      "('Female', 441267, 55)\n",
      "('Female', 712678, 63)\n"
     ]
    }
   ],
   "source": [
    "# Selecting all (fetchall)\n",
    "\n",
    "cursor.execute(\"SELECT * FROM school\")\n",
    "\n",
    "result= cursor.fetchall()   # fetchall means fetch all the records.\n",
    "\n",
    "for x in result:\n",
    "    print(x)"
   ]
  },
  {
   "cell_type": "markdown",
   "id": "f1c7a532",
   "metadata": {},
   "source": [
    "### WHERE condition"
   ]
  },
  {
   "cell_type": "code",
   "execution_count": 20,
   "id": "ccbed635",
   "metadata": {},
   "outputs": [
    {
     "name": "stdout",
     "output_type": "stream",
     "text": [
      "('Male', 123456, 34)\n"
     ]
    }
   ],
   "source": [
    "# Distinct means only one record out of all.\n",
    "\n",
    "sql=\"SELECT DISTINCT * FROM school WHERE student_id = 123456\"\n",
    "\n",
    "cursor.execute(sql)\n",
    "\n",
    "result=cursor.fetchall()\n",
    "\n",
    "for i in result:\n",
    "    print(i)"
   ]
  },
  {
   "cell_type": "code",
   "execution_count": 21,
   "id": "f7702307",
   "metadata": {},
   "outputs": [
    {
     "name": "stdout",
     "output_type": "stream",
     "text": [
      "('Male', 12345, 33)\n",
      "('Male', 123456, 34)\n",
      "('male', 567891234, 82)\n",
      "('male', 78912345, 66)\n",
      "('Male', 567891, 82)\n",
      "('Male', 789125, 66)\n"
     ]
    }
   ],
   "source": [
    "sql=\"SELECT * FROM school WHERE gender= 'Male'\"\n",
    "\n",
    "cursor.execute(sql)\n",
    "\n",
    "result=cursor.fetchall()\n",
    "\n",
    "for i in result:\n",
    "    print(i)"
   ]
  },
  {
   "cell_type": "code",
   "execution_count": 22,
   "id": "13c56c73",
   "metadata": {},
   "outputs": [
    {
     "name": "stdout",
     "output_type": "stream",
     "text": [
      "('Female', 253468, 56)\n",
      "('Female', 256511, 22)\n",
      "('female', 891234567, 55)\n",
      "('female', 912345678, 63)\n",
      "('Female', 441267, 55)\n",
      "('Female', 712678, 63)\n"
     ]
    }
   ],
   "source": [
    "sql=\"SELECT * FROM school WHERE gender= 'Female'\"\n",
    "\n",
    "cursor.execute(sql)\n",
    "\n",
    "result=cursor.fetchall()\n",
    "\n",
    "for i in result:\n",
    "    print(i)"
   ]
  },
  {
   "cell_type": "code",
   "execution_count": 23,
   "id": "5d08975b",
   "metadata": {},
   "outputs": [
    {
     "name": "stdout",
     "output_type": "stream",
     "text": [
      "('Male', 12345, 33)\n",
      "('Male', 123456, 34)\n",
      "('Female', 256511, 22)\n"
     ]
    }
   ],
   "source": [
    "sql=\"SELECT * FROM school WHERE marks <= 50\"\n",
    "\n",
    "cursor.execute(sql)\n",
    "\n",
    "result=cursor.fetchall()\n",
    "\n",
    "for i in result:\n",
    "    print(i)"
   ]
  },
  {
   "cell_type": "code",
   "execution_count": 24,
   "id": "9e696f6c",
   "metadata": {},
   "outputs": [
    {
     "name": "stdout",
     "output_type": "stream",
     "text": [
      "('Female', 253468, 56)\n",
      "('male', 567891234, 82)\n",
      "('male', 78912345, 66)\n",
      "('female', 891234567, 55)\n",
      "('female', 912345678, 63)\n",
      "('Male', 567891, 82)\n",
      "('Male', 789125, 66)\n",
      "('Female', 441267, 55)\n",
      "('Female', 712678, 63)\n"
     ]
    }
   ],
   "source": [
    "sql=\"SELECT * FROM school WHERE marks >= 50\"\n",
    "\n",
    "cursor.execute(sql)\n",
    "\n",
    "result=cursor.fetchall()\n",
    "\n",
    "for i in result:\n",
    "    print(i)"
   ]
  },
  {
   "cell_type": "markdown",
   "id": "456f1a89",
   "metadata": {},
   "source": [
    "### ORDER BY condition"
   ]
  },
  {
   "cell_type": "code",
   "execution_count": 25,
   "id": "57ef045c",
   "metadata": {},
   "outputs": [
    {
     "name": "stdout",
     "output_type": "stream",
     "text": [
      "('male', 567891234, 82)\n",
      "('Male', 567891, 82)\n",
      "('male', 78912345, 66)\n",
      "('Male', 789125, 66)\n",
      "('female', 912345678, 63)\n",
      "('Female', 712678, 63)\n",
      "('Female', 253468, 56)\n",
      "('female', 891234567, 55)\n",
      "('Female', 441267, 55)\n",
      "('Male', 123456, 34)\n",
      "('Male', 12345, 33)\n",
      "('Female', 256511, 22)\n"
     ]
    }
   ],
   "source": [
    "# Selecting on columns by order\n",
    "\n",
    "sql=\"SELECT * FROM school ORDER BY marks DESC\"\n",
    "\n",
    "cursor.execute(sql)\n",
    "\n",
    "result=cursor.fetchall()\n",
    "\n",
    "for i in result:\n",
    "    print(i)"
   ]
  },
  {
   "cell_type": "code",
   "execution_count": 26,
   "id": "36f72a1f",
   "metadata": {},
   "outputs": [
    {
     "name": "stdout",
     "output_type": "stream",
     "text": [
      "('Female', 256511, 22)\n",
      "('Male', 12345, 33)\n",
      "('Male', 123456, 34)\n",
      "('female', 891234567, 55)\n",
      "('Female', 441267, 55)\n",
      "('Female', 253468, 56)\n",
      "('female', 912345678, 63)\n",
      "('Female', 712678, 63)\n",
      "('male', 78912345, 66)\n",
      "('Male', 789125, 66)\n",
      "('male', 567891234, 82)\n",
      "('Male', 567891, 82)\n"
     ]
    }
   ],
   "source": [
    "sql=\"SELECT * FROM school ORDER BY marks\"   # by default it is in ascending format\n",
    "\n",
    "cursor.execute(sql)\n",
    "\n",
    "result=cursor.fetchall()\n",
    "\n",
    "for i in result:\n",
    "    print(i)"
   ]
  },
  {
   "cell_type": "code",
   "execution_count": 27,
   "id": "53964421",
   "metadata": {},
   "outputs": [
    {
     "name": "stdout",
     "output_type": "stream",
     "text": [
      "('female', 912345678, 63)\n",
      "('female', 891234567, 55)\n",
      "('male', 567891234, 82)\n",
      "('male', 78912345, 66)\n",
      "('Male', 789125, 66)\n",
      "('Female', 712678, 63)\n",
      "('Male', 567891, 82)\n",
      "('Female', 441267, 55)\n",
      "('Female', 256511, 22)\n",
      "('Female', 253468, 56)\n",
      "('Male', 123456, 34)\n",
      "('Male', 12345, 33)\n"
     ]
    }
   ],
   "source": [
    "sql=\"SELECT * FROM school ORDER BY STUDENT_ID DESC\"\n",
    "\n",
    "cursor.execute(sql)\n",
    "\n",
    "result=cursor.fetchall()\n",
    "\n",
    "for i in result:\n",
    "    print(i)"
   ]
  },
  {
   "cell_type": "code",
   "execution_count": 28,
   "id": "9c4dbd9c",
   "metadata": {},
   "outputs": [
    {
     "name": "stdout",
     "output_type": "stream",
     "text": [
      "('Female', 253468, 56)\n",
      "('Female', 256511, 22)\n",
      "('female', 891234567, 55)\n",
      "('female', 912345678, 63)\n",
      "('Female', 441267, 55)\n",
      "('Female', 712678, 63)\n",
      "('Male', 12345, 33)\n",
      "('Male', 123456, 34)\n",
      "('male', 567891234, 82)\n",
      "('male', 78912345, 66)\n",
      "('Male', 567891, 82)\n",
      "('Male', 789125, 66)\n"
     ]
    }
   ],
   "source": [
    "sql=\"SELECT * FROM school ORDER BY gender \"\n",
    "\n",
    "cursor.execute(sql)\n",
    "\n",
    "result=cursor.fetchall()\n",
    "\n",
    "for i in result:\n",
    "    print(i)"
   ]
  },
  {
   "cell_type": "markdown",
   "id": "545b96f9",
   "metadata": {},
   "source": [
    "### GROUP BY condition--- is often used with aggregate functions (COUNT(),MAX(),MIN(),SUM(),AVG())to group the result set by one or more columns."
   ]
  },
  {
   "cell_type": "markdown",
   "id": "01a14977",
   "metadata": {},
   "source": [
    "##### avg=sum/count"
   ]
  },
  {
   "cell_type": "markdown",
   "id": "a778d31e",
   "metadata": {},
   "source": [
    "#### 1) COUNT ()"
   ]
  },
  {
   "cell_type": "code",
   "execution_count": 29,
   "id": "2aaff1bd",
   "metadata": {},
   "outputs": [
    {
     "name": "stdout",
     "output_type": "stream",
     "text": [
      "(6, 'Male')\n",
      "(6, 'Female')\n"
     ]
    }
   ],
   "source": [
    "sql= \"SELECT COUNT(student_id), gender from school GROUP BY gender\"\n",
    "\n",
    "cursor.execute(sql)\n",
    "\n",
    "result=cursor.fetchall()\n",
    "\n",
    "for i in result:\n",
    "    print(i)"
   ]
  },
  {
   "cell_type": "markdown",
   "id": "4558d02b",
   "metadata": {},
   "source": [
    "#### 2) SUM()"
   ]
  },
  {
   "cell_type": "code",
   "execution_count": 30,
   "id": "8b0f201d",
   "metadata": {},
   "outputs": [
    {
     "name": "stdout",
     "output_type": "stream",
     "text": [
      "(Decimal('363'), 'Male')\n",
      "(Decimal('314'), 'Female')\n"
     ]
    }
   ],
   "source": [
    "sql= \"SELECT SUM(marks), gender from school GROUP BY gender\"\n",
    "\n",
    "cursor.execute(sql)\n",
    "\n",
    "result=cursor.fetchall()\n",
    "\n",
    "for i in result:\n",
    "    print(i)"
   ]
  },
  {
   "cell_type": "markdown",
   "id": "6f66a9ff",
   "metadata": {},
   "source": [
    "#### 3)MIN()"
   ]
  },
  {
   "cell_type": "code",
   "execution_count": 31,
   "id": "9287f0c0",
   "metadata": {},
   "outputs": [
    {
     "name": "stdout",
     "output_type": "stream",
     "text": [
      "(33, 'Male')\n",
      "(22, 'Female')\n"
     ]
    }
   ],
   "source": [
    "sql= \"SELECT MIN(marks), gender from school GROUP BY gender\"\n",
    "\n",
    "cursor.execute(sql)\n",
    "\n",
    "result=cursor.fetchall()\n",
    "\n",
    "for i in result:\n",
    "    print(i)"
   ]
  },
  {
   "cell_type": "markdown",
   "id": "abadb694",
   "metadata": {},
   "source": [
    "#### 4) MAX()"
   ]
  },
  {
   "cell_type": "code",
   "execution_count": 32,
   "id": "97ef1826",
   "metadata": {},
   "outputs": [
    {
     "name": "stdout",
     "output_type": "stream",
     "text": [
      "(82, 'Male')\n",
      "(63, 'Female')\n"
     ]
    }
   ],
   "source": [
    "sql= \"SELECT MAX(marks), gender from school GROUP BY gender\"\n",
    "\n",
    "cursor.execute(sql)\n",
    "\n",
    "result=cursor.fetchall()\n",
    "\n",
    "for i in result:\n",
    "    print(i)"
   ]
  },
  {
   "cell_type": "markdown",
   "id": "ef034800",
   "metadata": {},
   "source": [
    "#### 5) AVG()"
   ]
  },
  {
   "cell_type": "code",
   "execution_count": 33,
   "id": "5df440cd",
   "metadata": {},
   "outputs": [
    {
     "name": "stdout",
     "output_type": "stream",
     "text": [
      "(Decimal('60.5000'), 'Male')\n",
      "(Decimal('52.3333'), 'Female')\n"
     ]
    }
   ],
   "source": [
    "sql= \"SELECT AVG(marks), gender from school GROUP BY gender\"\n",
    "\n",
    "cursor.execute(sql)\n",
    "\n",
    "result=cursor.fetchall()\n",
    "\n",
    "for i in result:\n",
    "    print(i)"
   ]
  },
  {
   "cell_type": "markdown",
   "id": "4d3babaf",
   "metadata": {},
   "source": [
    "### HAVING CLAUSE--- Since WHERE clase cannot be used with aggregate functions so having clause is added to SQL."
   ]
  },
  {
   "cell_type": "code",
   "execution_count": 34,
   "id": "340afae3",
   "metadata": {},
   "outputs": [],
   "source": [
    "sql=\"select count(gender),avg(marks),gender from school group by gender having count(gender)>8\"\n",
    "\n",
    "cursor.execute(sql)\n",
    "\n",
    "result=cursor.fetchall()\n",
    "\n",
    "for i in result:\n",
    "    print(i)"
   ]
  },
  {
   "cell_type": "markdown",
   "id": "bbb2890c",
   "metadata": {},
   "source": [
    "## UPDATE THE DATA IN THE TABLE"
   ]
  },
  {
   "cell_type": "code",
   "execution_count": 39,
   "id": "a8611132",
   "metadata": {},
   "outputs": [
    {
     "name": "stdout",
     "output_type": "stream",
     "text": [
      "1 Record affected\n"
     ]
    }
   ],
   "source": [
    "db=mysql.connector.connect(\n",
    "    host=\"localhost\",\n",
    "    user=\"root\",\n",
    "    password=\"Silvershark@1988\",\n",
    "    database=\"database3\"\n",
    ")\n",
    "\n",
    "cursor=db.cursor()\n",
    "\n",
    "sql=\"UPDATE school SET marks = 100 WHERE student_id = 567891\"\n",
    "\n",
    "cursor.execute(sql)\n",
    "db.commit()\n",
    "\n",
    "print(cursor.rowcount,'Record affected')"
   ]
  },
  {
   "cell_type": "code",
   "execution_count": 40,
   "id": "1f2d6f76",
   "metadata": {},
   "outputs": [
    {
     "name": "stdout",
     "output_type": "stream",
     "text": [
      "('Male', 12345, 33)\n",
      "('Male', 123456, 34)\n",
      "('Female', 253468, 56)\n",
      "('Female', 256511, 22)\n",
      "('male', 567891234, 82)\n",
      "('male', 78912345, 66)\n",
      "('female', 891234567, 55)\n",
      "('female', 912345678, 63)\n",
      "('Male', 567891, 100)\n",
      "('Male', 789125, 66)\n",
      "('Female', 441267, 55)\n",
      "('Female', 712678, 63)\n"
     ]
    }
   ],
   "source": [
    "#Rechecking the table .\n",
    "\n",
    "sql='SELECT * FROM school'\n",
    "\n",
    "cursor.execute(sql)\n",
    "\n",
    "result=cursor.fetchall()\n",
    "\n",
    "for i in result:\n",
    "    print(i)"
   ]
  },
  {
   "cell_type": "markdown",
   "id": "aa3bcf58",
   "metadata": {},
   "source": [
    "### LIMIT CLAUSE- it accepcts 1 or 2 arguments .The values of both argument must be zero or positive integer"
   ]
  },
  {
   "cell_type": "code",
   "execution_count": 41,
   "id": "56e2a443",
   "metadata": {},
   "outputs": [
    {
     "name": "stdout",
     "output_type": "stream",
     "text": [
      "('Female', 253468, 56)\n",
      "('Female', 256511, 22)\n",
      "('male', 567891234, 82)\n",
      "('male', 78912345, 66)\n",
      "('female', 891234567, 55)\n"
     ]
    }
   ],
   "source": [
    "db=mysql.connector.connect(\n",
    "    host=\"localhost\",\n",
    "    user=\"root\",\n",
    "    password=\"Silvershark@1988\",\n",
    "    database=\"database3\"\n",
    ")\n",
    "\n",
    "cursor=db.cursor()\n",
    "\n",
    "sql=\"SELECT * FROM school LIMIT 2,5\"  # from 2 row index up to 5 rows\n",
    "\n",
    "cursor.execute(sql)\n",
    "\n",
    "res=cursor.fetchall()\n",
    "\n",
    "for i in res:\n",
    "    print(i)"
   ]
  },
  {
   "cell_type": "code",
   "execution_count": 42,
   "id": "0199c510",
   "metadata": {},
   "outputs": [
    {
     "name": "stdout",
     "output_type": "stream",
     "text": [
      "('Male', 12345, 33)\n",
      "('Male', 123456, 34)\n",
      "('Female', 253468, 56)\n",
      "('Female', 256511, 22)\n",
      "('male', 567891234, 82)\n"
     ]
    }
   ],
   "source": [
    "sql=\"SELECT * FROM school LIMIT 5\"   # upto 5 rows from beginning\n",
    "\n",
    "cursor.execute(sql)\n",
    "\n",
    "res=cursor.fetchall()\n",
    "\n",
    "for i in res:\n",
    "    print(i)"
   ]
  },
  {
   "cell_type": "markdown",
   "id": "f974e484",
   "metadata": {},
   "source": [
    "# OPERATORS"
   ]
  },
  {
   "cell_type": "markdown",
   "id": "f373f2ae",
   "metadata": {},
   "source": [
    "### 1) BETWEEN OPERATOR - To determine whether a value is in a range of values"
   ]
  },
  {
   "cell_type": "code",
   "execution_count": 43,
   "id": "237bd6c4",
   "metadata": {},
   "outputs": [
    {
     "name": "stdout",
     "output_type": "stream",
     "text": [
      "('Female', 253468, 56)\n",
      "('male', 78912345, 66)\n",
      "('female', 891234567, 55)\n",
      "('female', 912345678, 63)\n",
      "('Male', 789125, 66)\n",
      "('Female', 441267, 55)\n",
      "('Female', 712678, 63)\n"
     ]
    }
   ],
   "source": [
    "sql=\"SELECT * FROM school WHERE marks BETWEEN 50 and 80\"   # RANGE  of numbers\n",
    "\n",
    "cursor.execute(sql)\n",
    "\n",
    "res=cursor.fetchall()\n",
    "\n",
    "for i in res:\n",
    "    print(i)"
   ]
  },
  {
   "cell_type": "code",
   "execution_count": 44,
   "id": "340d2fe0",
   "metadata": {},
   "outputs": [
    {
     "data": {
      "text/plain": [
       "[(567891234, 82, 'male'),\n",
       " (78912345, 66, 'male'),\n",
       " (912345678, 63, 'female'),\n",
       " (567891, 100, 'Male'),\n",
       " (789125, 66, 'Male'),\n",
       " (712678, 63, 'Female')]"
      ]
     },
     "execution_count": 44,
     "metadata": {},
     "output_type": "execute_result"
    }
   ],
   "source": [
    "sql=\"SELECT student_id,marks,gender FROM school WHERE  marks BETWEEN 60 AND 100\"\n",
    "\n",
    "cursor.execute(sql)\n",
    "\n",
    "cursor.fetchall()"
   ]
  },
  {
   "cell_type": "markdown",
   "id": "377450a3",
   "metadata": {},
   "source": [
    "### 2) IN OPERATORS- To determine if a specified value matches any values in a list or a subquery."
   ]
  },
  {
   "cell_type": "code",
   "execution_count": 45,
   "id": "1637b022",
   "metadata": {},
   "outputs": [
    {
     "data": {
      "text/plain": [
       "[(12345, 33, 'Male'),\n",
       " (891234567, 55, 'female'),\n",
       " (567891, 100, 'Male'),\n",
       " (441267, 55, 'Female')]"
      ]
     },
     "execution_count": 45,
     "metadata": {},
     "output_type": "execute_result"
    }
   ],
   "source": [
    "sql=\"SELECT student_id,marks,gender FROM school WHERE  marks IN (33,54,55,67,100)\"\n",
    "\n",
    "cursor.execute(sql)\n",
    "\n",
    "cursor.fetchall()"
   ]
  },
  {
   "cell_type": "markdown",
   "id": "0979deda",
   "metadata": {},
   "source": [
    "### 3) LIKE OPERATORS - To query data based on a specified pattern(WILD CARD)."
   ]
  },
  {
   "cell_type": "code",
   "execution_count": 46,
   "id": "46d75b01",
   "metadata": {},
   "outputs": [
    {
     "data": {
      "text/plain": [
       "[(12345, 33, 'Male'), (123456, 34, 'Male')]"
      ]
     },
     "execution_count": 46,
     "metadata": {},
     "output_type": "execute_result"
    }
   ],
   "source": [
    "sql=\"SELECT student_id,marks,gender FROM school WHERE  marks LIKE '3%'\"  # number starts with first digit 3 \n",
    "\n",
    "cursor.execute(sql)\n",
    "\n",
    "cursor.fetchall()"
   ]
  },
  {
   "cell_type": "code",
   "execution_count": 47,
   "id": "f5b789c6",
   "metadata": {},
   "outputs": [
    {
     "data": {
      "text/plain": [
       "[(253468, 56, 'Female'), (891234567, 55, 'female'), (441267, 55, 'Female')]"
      ]
     },
     "execution_count": 47,
     "metadata": {},
     "output_type": "execute_result"
    }
   ],
   "source": [
    "sql=\"SELECT student_id,marks,gender FROM school WHERE  marks LIKE '5%'\"  # number starts with first digit 3 \n",
    "\n",
    "cursor.execute(sql)\n",
    "\n",
    "cursor.fetchall()"
   ]
  },
  {
   "cell_type": "markdown",
   "id": "7bec7dd4",
   "metadata": {},
   "source": [
    "##### in case of name of a person like Anand use 'An%'"
   ]
  },
  {
   "cell_type": "code",
   "execution_count": 48,
   "id": "f7a9b463",
   "metadata": {},
   "outputs": [
    {
     "name": "stdout",
     "output_type": "stream",
     "text": [
      "(253468, 56, 'Female')\n",
      "(256511, 22, 'Female')\n",
      "(891234567, 55, 'female')\n",
      "(912345678, 63, 'female')\n",
      "(441267, 55, 'Female')\n",
      "(712678, 63, 'Female')\n"
     ]
    }
   ],
   "source": [
    "sql=\"SELECT student_id,marks,gender FROM school WHERE gender LIKE 'fe%'\"  # number starts with first digit 3 \n",
    "\n",
    "cursor.execute(sql)\n",
    "\n",
    "result=cursor.fetchall()\n",
    "\n",
    "for i in result:\n",
    "    print(i)"
   ]
  },
  {
   "cell_type": "code",
   "execution_count": 49,
   "id": "d56fd04a",
   "metadata": {},
   "outputs": [
    {
     "name": "stdout",
     "output_type": "stream",
     "text": [
      "(567891234, 82, 'male')\n",
      "(891234567, 55, 'female')\n",
      "(912345678, 63, 'female')\n",
      "(567891, 100, 'Male')\n",
      "(441267, 55, 'Female')\n",
      "(712678, 63, 'Female')\n"
     ]
    }
   ],
   "source": [
    "sql=\"SELECT student_id,marks,gender FROM school WHERE student_id LIKE '%67%'\"  # number starts with ANYTHING but 67 should be ib between or in anywhere togther with again wild card at end\n",
    "\n",
    "cursor.execute(sql)\n",
    "\n",
    "result=cursor.fetchall()\n",
    "\n",
    "for i in result:\n",
    "    print(i)"
   ]
  },
  {
   "cell_type": "markdown",
   "id": "7d86badc",
   "metadata": {},
   "source": [
    "## COMPARISION OPERATORS\n",
    "\n",
    "- EQUAL TO   =\n",
    "\n",
    "- GREATER THAN  >\n",
    "\n",
    "- LESSER THAN <\n",
    "\n",
    "- GREATER THAN EQUAL TO  >=\n",
    "\n",
    "- LESSER THAN <=\n",
    "\n",
    "- NOT EQUAL TO   <>"
   ]
  },
  {
   "cell_type": "code",
   "execution_count": 50,
   "id": "17d2f57a",
   "metadata": {},
   "outputs": [
    {
     "data": {
      "text/plain": [
       "[('Male', 12345, 33),\n",
       " ('Male', 123456, 34),\n",
       " ('Female', 253468, 56),\n",
       " ('Female', 256511, 22),\n",
       " ('male', 567891234, 82),\n",
       " ('male', 78912345, 66),\n",
       " ('female', 891234567, 55),\n",
       " ('Male', 567891, 100),\n",
       " ('Male', 789125, 66),\n",
       " ('Female', 441267, 55)]"
      ]
     },
     "execution_count": 50,
     "metadata": {},
     "output_type": "execute_result"
    }
   ],
   "source": [
    "# cHANGE THE OPERATORS ACCORDING TO THE NEED\n",
    "\n",
    "sql= \"SELECT * FROM school WHERE marks <> 63\"   # not equal to 63\n",
    "\n",
    "cursor.execute(sql)\n",
    "\n",
    "cursor.fetchall()"
   ]
  },
  {
   "cell_type": "code",
   "execution_count": 51,
   "id": "fb7cae64",
   "metadata": {},
   "outputs": [
    {
     "data": {
      "text/plain": [
       "[('Female', 253468, 56)]"
      ]
     },
     "execution_count": 51,
     "metadata": {},
     "output_type": "execute_result"
    }
   ],
   "source": [
    "sql= \"SELECT * FROM school WHERE marks = 56\"\n",
    "\n",
    "cursor.execute(sql)\n",
    "\n",
    "cursor.fetchall()"
   ]
  },
  {
   "cell_type": "code",
   "execution_count": 52,
   "id": "334a2e24",
   "metadata": {},
   "outputs": [
    {
     "data": {
      "text/plain": [
       "[('male', 567891234, 82),\n",
       " ('male', 78912345, 66),\n",
       " ('Male', 567891, 100),\n",
       " ('Male', 789125, 66)]"
      ]
     },
     "execution_count": 52,
     "metadata": {},
     "output_type": "execute_result"
    }
   ],
   "source": [
    "sql= \"SELECT * FROM school WHERE marks > 63\"\n",
    "\n",
    "cursor.execute(sql)\n",
    "\n",
    "cursor.fetchall()"
   ]
  },
  {
   "cell_type": "code",
   "execution_count": 53,
   "id": "a9f5031c",
   "metadata": {},
   "outputs": [
    {
     "data": {
      "text/plain": [
       "[]"
      ]
     },
     "execution_count": 53,
     "metadata": {},
     "output_type": "execute_result"
    }
   ],
   "source": [
    "sql= \"SELECT * FROM school WHERE marks < 20\"\n",
    "\n",
    "cursor.execute(sql)\n",
    "\n",
    "cursor.fetchall()"
   ]
  },
  {
   "cell_type": "code",
   "execution_count": 54,
   "id": "25bc2a77",
   "metadata": {},
   "outputs": [
    {
     "data": {
      "text/plain": [
       "[('Male', 12345, 33),\n",
       " ('Male', 123456, 34),\n",
       " ('Female', 253468, 56),\n",
       " ('Female', 256511, 22),\n",
       " ('female', 891234567, 55),\n",
       " ('female', 912345678, 63),\n",
       " ('Female', 441267, 55),\n",
       " ('Female', 712678, 63)]"
      ]
     },
     "execution_count": 54,
     "metadata": {},
     "output_type": "execute_result"
    }
   ],
   "source": [
    "sql= \"SELECT * FROM school WHERE marks <= 63\"\n",
    "\n",
    "cursor.execute(sql)\n",
    "\n",
    "cursor.fetchall()"
   ]
  },
  {
   "cell_type": "code",
   "execution_count": 55,
   "id": "df8c3412",
   "metadata": {},
   "outputs": [
    {
     "data": {
      "text/plain": [
       "[('male', 567891234, 82),\n",
       " ('male', 78912345, 66),\n",
       " ('female', 912345678, 63),\n",
       " ('Male', 567891, 100),\n",
       " ('Male', 789125, 66),\n",
       " ('Female', 712678, 63)]"
      ]
     },
     "execution_count": 55,
     "metadata": {},
     "output_type": "execute_result"
    }
   ],
   "source": [
    "sql= \"SELECT * FROM school WHERE marks >= 63\"\n",
    "\n",
    "cursor.execute(sql)\n",
    "\n",
    "cursor.fetchall()"
   ]
  },
  {
   "cell_type": "markdown",
   "id": "a91a6cda",
   "metadata": {},
   "source": [
    "## LOGICAL OPERATOR \n",
    "\n",
    "- AND \n",
    "\n",
    "- OR\n",
    "\n",
    "- NOT NULL"
   ]
  },
  {
   "cell_type": "markdown",
   "id": "467bb4c8",
   "metadata": {},
   "source": [
    "#### AND "
   ]
  },
  {
   "cell_type": "code",
   "execution_count": 59,
   "id": "e5ddcce0",
   "metadata": {},
   "outputs": [
    {
     "data": {
      "text/plain": [
       "[('Female', 253468, 56),\n",
       " ('female', 891234567, 55),\n",
       " ('female', 912345678, 63),\n",
       " ('Female', 441267, 55),\n",
       " ('Female', 712678, 63)]"
      ]
     },
     "execution_count": 59,
     "metadata": {},
     "output_type": "execute_result"
    }
   ],
   "source": [
    "# AND OPERATOR TO COMBINE MULTIPLE bOOLEAN EXPRESSION TO FILTER DATA\n",
    "\n",
    "sql= \"SELECT * FROM school WHERE gender = 'female' AND marks > 50 \"\n",
    "\n",
    "cursor.execute(sql)\n",
    "\n",
    "cursor.fetchall()"
   ]
  },
  {
   "cell_type": "code",
   "execution_count": 60,
   "id": "59f83b4d",
   "metadata": {},
   "outputs": [
    {
     "data": {
      "text/plain": [
       "[('female', 912345678, 63)]"
      ]
     },
     "execution_count": 60,
     "metadata": {},
     "output_type": "execute_result"
    }
   ],
   "source": [
    "sql= \"SELECT * FROM school WHERE gender = 'female' AND marks > 50 AND student_id > 912345677\"    # all the conditions should be true \n",
    "\n",
    "cursor.execute(sql)\n",
    "\n",
    "cursor.fetchall()"
   ]
  },
  {
   "cell_type": "markdown",
   "id": "7ee4116f",
   "metadata": {},
   "source": [
    "#### OR "
   ]
  },
  {
   "cell_type": "code",
   "execution_count": 61,
   "id": "9362d853",
   "metadata": {},
   "outputs": [
    {
     "data": {
      "text/plain": [
       "[(253468, 'Female', 56),\n",
       " (256511, 'Female', 22),\n",
       " (567891234, 'male', 82),\n",
       " (78912345, 'male', 66),\n",
       " (891234567, 'female', 55),\n",
       " (912345678, 'female', 63),\n",
       " (567891, 'Male', 100),\n",
       " (789125, 'Male', 66),\n",
       " (441267, 'Female', 55),\n",
       " (712678, 'Female', 63)]"
      ]
     },
     "execution_count": 61,
     "metadata": {},
     "output_type": "execute_result"
    }
   ],
   "source": [
    "# OR operator is used to combine boolean opoeration for filtering data.\n",
    "\n",
    "sql=\"SELECT student_id, gender, marks FROM school WHERE marks >50 OR gender = 'female'\"\n",
    "\n",
    "cursor.execute(sql)\n",
    "cursor.fetchall()"
   ]
  },
  {
   "cell_type": "markdown",
   "id": "003b4987",
   "metadata": {},
   "source": [
    "#### NOT NULL"
   ]
  },
  {
   "cell_type": "code",
   "execution_count": 62,
   "id": "9ab37b63",
   "metadata": {},
   "outputs": [
    {
     "data": {
      "text/plain": [
       "[('Male', 12345, 33),\n",
       " ('Male', 123456, 34),\n",
       " ('Female', 253468, 56),\n",
       " ('Female', 256511, 22),\n",
       " ('male', 567891234, 82),\n",
       " ('male', 78912345, 66),\n",
       " ('female', 891234567, 55),\n",
       " ('female', 912345678, 63),\n",
       " ('Male', 567891, 100),\n",
       " ('Male', 789125, 66),\n",
       " ('Female', 441267, 55),\n",
       " ('Female', 712678, 63)]"
      ]
     },
     "execution_count": 62,
     "metadata": {},
     "output_type": "execute_result"
    }
   ],
   "source": [
    "# NOT NULL is to filter data on checking null data.\n",
    "\n",
    "sql=\"SELECT * FROM school WHERE marks is NOT NULL\"\n",
    "\n",
    "cursor.execute(sql)\n",
    "\n",
    "cursor.fetchall()\n"
   ]
  },
  {
   "cell_type": "code",
   "execution_count": 63,
   "id": "d9ee7fc9",
   "metadata": {},
   "outputs": [
    {
     "data": {
      "text/plain": [
       "[]"
      ]
     },
     "execution_count": 63,
     "metadata": {},
     "output_type": "execute_result"
    }
   ],
   "source": [
    "sql=\"SELECT * FROM school WHERE marks is NULL\"\n",
    "\n",
    "cursor.execute(sql)\n",
    "\n",
    "cursor.fetchall()\n"
   ]
  },
  {
   "cell_type": "markdown",
   "id": "44a00e9f",
   "metadata": {},
   "source": [
    "#### no null data is present."
   ]
  },
  {
   "cell_type": "markdown",
   "id": "ef2d2d90",
   "metadata": {},
   "source": [
    "## AGGREGATE FUNNCTIONS-\n",
    "\n",
    "- COUNT\n",
    "- MIN\n",
    "- MAX\n",
    "- AVG\n",
    "- SUM"
   ]
  },
  {
   "cell_type": "code",
   "execution_count": 65,
   "id": "677dc1f0",
   "metadata": {},
   "outputs": [
    {
     "name": "stdout",
     "output_type": "stream",
     "text": [
      "(12, Decimal('57.9167'))\n"
     ]
    }
   ],
   "source": [
    "sql=\"SELECT COUNT(student_id) ,AVG(marks) FROM school \"\n",
    "\n",
    "cursor.execute(sql)\n",
    "\n",
    "result=cursor.fetchall()\n",
    "\n",
    "for i in result:\n",
    "    print(i)"
   ]
  },
  {
   "cell_type": "code",
   "execution_count": 67,
   "id": "6226aca5",
   "metadata": {},
   "outputs": [
    {
     "name": "stdout",
     "output_type": "stream",
     "text": [
      "(Decimal('381'),)\n"
     ]
    }
   ],
   "source": [
    "sql=\"SELECT SUM(marks) FROM school where gender ='male'\"\n",
    "\n",
    "cursor.execute(sql)\n",
    "\n",
    "result=cursor.fetchall()\n",
    "\n",
    "for i in result:\n",
    "    print(i)"
   ]
  },
  {
   "cell_type": "code",
   "execution_count": 71,
   "id": "532b90ee",
   "metadata": {},
   "outputs": [
    {
     "name": "stdout",
     "output_type": "stream",
     "text": [
      "(Decimal('52.3333'),)\n"
     ]
    }
   ],
   "source": [
    "sql=\"SELECT AVG(marks) FROM school where gender ='Female'\"\n",
    "\n",
    "cursor.execute(sql)\n",
    "\n",
    "result=cursor.fetchall()\n",
    "\n",
    "for i in result:\n",
    "    print(i)"
   ]
  },
  {
   "cell_type": "code",
   "execution_count": 68,
   "id": "1217d816",
   "metadata": {},
   "outputs": [
    {
     "data": {
      "text/plain": [
       "[(22,)]"
      ]
     },
     "execution_count": 68,
     "metadata": {},
     "output_type": "execute_result"
    }
   ],
   "source": [
    "sql=\"select min(marks) from school\"\n",
    "\n",
    "cursor.execute(sql)\n",
    "\n",
    "cursor.fetchall()"
   ]
  },
  {
   "cell_type": "code",
   "execution_count": 72,
   "id": "3abe5380",
   "metadata": {},
   "outputs": [
    {
     "data": {
      "text/plain": [
       "[(33,)]"
      ]
     },
     "execution_count": 72,
     "metadata": {},
     "output_type": "execute_result"
    }
   ],
   "source": [
    "sql=\"select min(marks) from school WHERE GENDER ='Male'\"\n",
    "\n",
    "cursor.execute(sql)\n",
    "\n",
    "cursor.fetchall()"
   ]
  },
  {
   "cell_type": "code",
   "execution_count": 69,
   "id": "7429975f",
   "metadata": {},
   "outputs": [
    {
     "data": {
      "text/plain": [
       "[(100,)]"
      ]
     },
     "execution_count": 69,
     "metadata": {},
     "output_type": "execute_result"
    }
   ],
   "source": [
    "sql=\"select max(marks) from school\"\n",
    "\n",
    "cursor.execute(sql)\n",
    "\n",
    "cursor.fetchall()"
   ]
  },
  {
   "cell_type": "code",
   "execution_count": 70,
   "id": "811d1d0f",
   "metadata": {},
   "outputs": [
    {
     "data": {
      "text/plain": [
       "[(Decimal('57.9167'),)]"
      ]
     },
     "execution_count": 70,
     "metadata": {},
     "output_type": "execute_result"
    }
   ],
   "source": [
    "sql=\"select avg(marks) from school\"\n",
    "\n",
    "cursor.execute(sql)\n",
    "\n",
    "cursor.fetchall()"
   ]
  },
  {
   "cell_type": "code",
   "execution_count": 73,
   "id": "e09103c2",
   "metadata": {},
   "outputs": [
    {
     "data": {
      "text/plain": [
       "[(Decimal('695'),)]"
      ]
     },
     "execution_count": 73,
     "metadata": {},
     "output_type": "execute_result"
    }
   ],
   "source": [
    "sql=\"select sum(marks) from school\"\n",
    "\n",
    "cursor.execute(sql)\n",
    "\n",
    "cursor.fetchall()"
   ]
  },
  {
   "cell_type": "markdown",
   "id": "351790c0",
   "metadata": {},
   "source": [
    "## SQL JOINS "
   ]
  },
  {
   "cell_type": "markdown",
   "id": "8149e521",
   "metadata": {},
   "source": [
    "#### JOINS are use to join 2 or more tables."
   ]
  },
  {
   "cell_type": "code",
   "execution_count": 76,
   "id": "132deb85",
   "metadata": {},
   "outputs": [
    {
     "data": {
      "text/plain": [
       "[('school',)]"
      ]
     },
     "execution_count": 76,
     "metadata": {},
     "output_type": "execute_result"
    }
   ],
   "source": [
    "# Check if any table available-Existing tables\n",
    "\n",
    "cursor.execute(\"SHOW TABLES\")\n",
    "\n",
    "cursor.fetchall()"
   ]
  },
  {
   "cell_type": "code",
   "execution_count": 77,
   "id": "30ef7ef2",
   "metadata": {},
   "outputs": [
    {
     "data": {
      "text/plain": [
       "[]"
      ]
     },
     "execution_count": 77,
     "metadata": {},
     "output_type": "execute_result"
    }
   ],
   "source": [
    "# Create another table to join \n",
    "\n",
    "cursor.execute('CREATE table marks (name VARCHAR(10),student_id INT(10),score INT(3))')\n",
    "\n",
    "cursor.fetchall()"
   ]
  },
  {
   "cell_type": "code",
   "execution_count": 84,
   "id": "197ef3db",
   "metadata": {},
   "outputs": [
    {
     "name": "stdout",
     "output_type": "stream",
     "text": [
      "('marks',)\n",
      "('school',)\n"
     ]
    }
   ],
   "source": [
    "db=mysql.connector.connect(\n",
    "    host=\"localhost\",\n",
    "    user=\"root\",\n",
    "    password=\"Silvershark@1988\",\n",
    "    database=\"database3\"\n",
    ")\n",
    "\n",
    "cursor=db.cursor()\n",
    "\n",
    "cursor.execute(\"show tables\")\n",
    "\n",
    "for i in cursor:\n",
    "    print(i)"
   ]
  },
  {
   "cell_type": "code",
   "execution_count": 78,
   "id": "1a8da1ec",
   "metadata": {},
   "outputs": [
    {
     "name": "stdout",
     "output_type": "stream",
     "text": [
      "('marks',)\n",
      "('school',)\n"
     ]
    }
   ],
   "source": [
    "\n",
    "cursor.execute(\"show tables\")\n",
    "\n",
    "for i in cursor:\n",
    "    print(i)"
   ]
  },
  {
   "cell_type": "code",
   "execution_count": 79,
   "id": "084adef9",
   "metadata": {},
   "outputs": [],
   "source": [
    "db.commit()"
   ]
  },
  {
   "cell_type": "code",
   "execution_count": 85,
   "id": "f2900338",
   "metadata": {},
   "outputs": [],
   "source": [
    "cursor.execute(\"INSERT into marks VALUES('Nia',712678,63),('KIARA',441267,55),('Faraaz',12345,33),('Kanish',78912345,66),('Yashika',256511,22)\")\n",
    "\n",
    "cursor.fetchall()\n",
    "\n",
    "db.commit()\n"
   ]
  },
  {
   "cell_type": "code",
   "execution_count": 83,
   "id": "d5a595f6",
   "metadata": {},
   "outputs": [
    {
     "data": {
      "text/plain": [
       "[('Male', 12345, 33),\n",
       " ('Male', 123456, 34),\n",
       " ('Female', 253468, 56),\n",
       " ('Female', 256511, 22),\n",
       " ('male', 567891234, 82),\n",
       " ('male', 78912345, 66),\n",
       " ('female', 891234567, 55),\n",
       " ('female', 912345678, 63),\n",
       " ('Male', 567891, 100),\n",
       " ('Male', 789125, 66),\n",
       " ('Female', 441267, 55),\n",
       " ('Female', 712678, 63)]"
      ]
     },
     "execution_count": 83,
     "metadata": {},
     "output_type": "execute_result"
    }
   ],
   "source": [
    "cursor.execute(\"select * from school\")\n",
    "\n",
    "cursor.fetchall()"
   ]
  },
  {
   "cell_type": "code",
   "execution_count": 86,
   "id": "ab17ec8e",
   "metadata": {},
   "outputs": [
    {
     "data": {
      "text/plain": [
       "[('Nia', 3566912, 47),\n",
       " ('KIARA', 4642345, 63),\n",
       " ('Faraaz', 4565675, 73),\n",
       " ('Kanish', 56734567, 46),\n",
       " ('Yashika', 234567891, 74),\n",
       " ('Nia', 712678, 63),\n",
       " ('KIARA', 441267, 55),\n",
       " ('Faraaz', 12345, 33),\n",
       " ('Kanish', 78912345, 66),\n",
       " ('Yashika', 256511, 22)]"
      ]
     },
     "execution_count": 86,
     "metadata": {},
     "output_type": "execute_result"
    }
   ],
   "source": [
    "cursor.execute(\"select * from marks\")\n",
    "\n",
    "cursor.fetchall()"
   ]
  },
  {
   "cell_type": "markdown",
   "id": "d0c2fd26",
   "metadata": {},
   "source": [
    "### INNER JOINS"
   ]
  },
  {
   "cell_type": "code",
   "execution_count": 87,
   "id": "680acd90",
   "metadata": {},
   "outputs": [
    {
     "data": {
      "text/plain": [
       "[(12345, 'Male', 'Faraaz', 33),\n",
       " (256511, 'Female', 'Yashika', 22),\n",
       " (78912345, 'male', 'Kanish', 66),\n",
       " (441267, 'Female', 'KIARA', 55),\n",
       " (712678, 'Female', 'Nia', 63)]"
      ]
     },
     "execution_count": 87,
     "metadata": {},
     "output_type": "execute_result"
    }
   ],
   "source": [
    "# the INNER JOIN matches each row in one tabe with every row in other tables and allows you to query rows that contains columns for both tables\n",
    "\n",
    "#INNER JOINS only matching\n",
    "\n",
    "\n",
    "sql= \"select school.student_id,school.gender,marks.name,marks.score FROM school INNER JOIN marks on school.student_id = marks.student_id\"\n",
    "\n",
    "cursor.execute(sql)\n",
    "\n",
    "cursor.fetchall()"
   ]
  },
  {
   "cell_type": "markdown",
   "id": "1ad08204",
   "metadata": {},
   "source": [
    "### RIGHT JOINS"
   ]
  },
  {
   "cell_type": "code",
   "execution_count": 88,
   "id": "e3afeb80",
   "metadata": {},
   "outputs": [
    {
     "data": {
      "text/plain": [
       "[(None, None, 'Nia', 47),\n",
       " (None, None, 'KIARA', 63),\n",
       " (None, None, 'Faraaz', 73),\n",
       " (None, None, 'Kanish', 46),\n",
       " (None, None, 'Yashika', 74),\n",
       " (712678, 'Female', 'Nia', 63),\n",
       " (441267, 'Female', 'KIARA', 55),\n",
       " (12345, 'Male', 'Faraaz', 33),\n",
       " (78912345, 'male', 'Kanish', 66),\n",
       " (256511, 'Female', 'Yashika', 22)]"
      ]
     },
     "execution_count": 88,
     "metadata": {},
     "output_type": "execute_result"
    }
   ],
   "source": [
    "# RIGHT JOINS will return matching and non matching with none.\n",
    "\n",
    "sql=\"SELECT school.student_id,school.gender,marks.name,marks.score FROM school RIGHT JOIN marks on school.student_id = marks.student_id\"\n",
    "\n",
    "cursor.execute(sql)\n",
    "\n",
    "cursor.fetchall()"
   ]
  },
  {
   "cell_type": "markdown",
   "id": "da8888c1",
   "metadata": {},
   "source": [
    "## LEFT JOINS"
   ]
  },
  {
   "cell_type": "code",
   "execution_count": 89,
   "id": "d0aae016",
   "metadata": {},
   "outputs": [
    {
     "data": {
      "text/plain": [
       "[(12345, 'Male', 'Faraaz', 33),\n",
       " (123456, 'Male', None, None),\n",
       " (253468, 'Female', None, None),\n",
       " (256511, 'Female', 'Yashika', 22),\n",
       " (567891234, 'male', None, None),\n",
       " (78912345, 'male', 'Kanish', 66),\n",
       " (891234567, 'female', None, None),\n",
       " (912345678, 'female', None, None),\n",
       " (567891, 'Male', None, None),\n",
       " (789125, 'Male', None, None),\n",
       " (441267, 'Female', 'KIARA', 55),\n",
       " (712678, 'Female', 'Nia', 63)]"
      ]
     },
     "execution_count": 89,
     "metadata": {},
     "output_type": "execute_result"
    }
   ],
   "source": [
    "# LEFT JOINS selects data starting from the left table .It matches each row from the left table with every row from the right table based on the join condition\n",
    "\n",
    "sql=\"SELECT school.student_id,school.gender,marks.name,marks.score FROM school LEFT JOIN marks on school.student_id = marks.student_id\"\n",
    "\n",
    "cursor.execute(sql)\n",
    "cursor.fetchall()"
   ]
  },
  {
   "cell_type": "markdown",
   "id": "0a5255d3",
   "metadata": {},
   "source": [
    "## QUERY OR SUBQUERY\n",
    "\n",
    "- 1) Primary key\n",
    "- 2) Foreign Key\n",
    "- 3) Unique Constraints"
   ]
  },
  {
   "cell_type": "markdown",
   "id": "77a49df4",
   "metadata": {},
   "source": [
    "#### emp_id is primary key(unique keys or unique data) in parent table \n",
    "\n",
    "#### same emp_id is foreign key in child table\n",
    "\n",
    "#### when we are taking primary key from parent table and refering/comparing it with foreign key of child table , which ever key matches we have to extract/fetched"
   ]
  },
  {
   "cell_type": "markdown",
   "id": "48dddb83",
   "metadata": {},
   "source": [
    "#### Both primary key(main table) and foreign key(sub table) have sepearte unique keys with same values."
   ]
  },
  {
   "cell_type": "markdown",
   "id": "e6cc168c",
   "metadata": {},
   "source": [
    "## SUBQUERY OR NESTED QUERY "
   ]
  },
  {
   "cell_type": "markdown",
   "id": "86c35965",
   "metadata": {},
   "source": [
    "#### SUBQUERY is a query nested within another query . means SQL within SQL.\n",
    "\n",
    "#### Subquery is called  an INNER QUERY while query that contains the subquery is called  an OUTER QUERY.\n",
    "\n",
    "#### A Subquery can be used anywhere that expression is used and must be closed in paraenthesis."
   ]
  },
  {
   "cell_type": "code",
   "execution_count": 91,
   "id": "2c19b46b",
   "metadata": {},
   "outputs": [
    {
     "name": "stdout",
     "output_type": "stream",
     "text": [
      "(78912345, 'male')\n",
      "(712678, 'Female')\n"
     ]
    }
   ],
   "source": [
    "sql= \"SELECT student_id,gender FROM school WHERE student_id IN (SELECT student_id FROM marks WHERE marks >60)\"\n",
    "\n",
    "cursor.execute(sql)\n",
    "\n",
    "result=cursor.fetchall()\n",
    "\n",
    "for x in result:\n",
    "    print(x)"
   ]
  },
  {
   "cell_type": "code",
   "execution_count": null,
   "id": "10037177",
   "metadata": {},
   "outputs": [],
   "source": []
  }
 ],
 "metadata": {
  "kernelspec": {
   "display_name": "Python 3 (ipykernel)",
   "language": "python",
   "name": "python3"
  },
  "language_info": {
   "codemirror_mode": {
    "name": "ipython",
    "version": 3
   },
   "file_extension": ".py",
   "mimetype": "text/x-python",
   "name": "python",
   "nbconvert_exporter": "python",
   "pygments_lexer": "ipython3",
   "version": "3.9.12"
  }
 },
 "nbformat": 4,
 "nbformat_minor": 5
}
